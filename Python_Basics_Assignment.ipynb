{
  "nbformat": 4,
  "nbformat_minor": 0,
  "metadata": {
    "colab": {
      "provenance": []
    },
    "kernelspec": {
      "name": "python3",
      "display_name": "Python 3"
    },
    "language_info": {
      "name": "python"
    }
  },
  "cells": [
    {
      "cell_type": "markdown",
      "source": [
        "Python Basics Questions\n"
      ],
      "metadata": {
        "id": "Je2SSCqLIVf6"
      }
    },
    {
      "cell_type": "code",
      "source": [
        "\"\"\"\n",
        "Q1) What is Python, and why is it popular?\n",
        "\n",
        "Ans1) Python is a high-level, interpreted programming language known for its simple syntax and readability. It is popular because it's easy to learn, supports multiple programming paradigms, and has a huge community with libraries.\n",
        "\n",
        "Q2) What is an interpreter in Python?\n",
        "\n",
        "Ans2) An interpreter reads and executes Python code line by line, instead of compiling the whole program at once. Python uses an interpreter to run scripts.\n",
        "\n",
        "Q3) What are pre-defined keywords in Python?\n",
        "\n",
        "Ans3) Keywords are special words that are reserved by Python. They have specific meanings and cannot be used as variable names.\n",
        "\n",
        "Q4) Can keywords be used as variable names?\n",
        "\n",
        "Ans4) No, keywords cannot be used as variable names.\n",
        "\n",
        "Q5) What is mutability in Python?\n",
        "\n",
        "Ans5) Mutability means whether an object can be changed after it's created. If it can be changed, it's mutable.\n",
        "\n",
        "Q6) Why are lists mutable, but tuples are immutable?\n",
        "\n",
        "Ans6) Lists can be changed, so they are mutable. Tuples cannot be changed once created, so they are immutable. This makes tuples faster and safer for fixed data.\n",
        "\n",
        "Q7) What is the difference between “==” and “is” operators in Python?\n",
        "\n",
        "Ans7) == checks if values are equal.\n",
        "\n",
        "is checks if two variables refer to the same object in memory.\n",
        "\n",
        "Q8) What are logical operators in Python?\n",
        "\n",
        "Ans8) Logical operators are used to combine conditional statements:\n",
        "\n",
        "and: True if both are true\n",
        "\n",
        "or: True if at least one is true\n",
        "\n",
        "not: Inverts the boolean value\n",
        "\n",
        "Q9) What is type casting in Python?\n",
        "\n",
        "Ans9) Type casting means converting one data type into another, like converting a string to an integer or float to int.\n",
        "\n",
        "Q10) What is the difference between implicit and explicit type casting?\n",
        "\n",
        "Ans10) Implicit casting is done automatically by Python.\n",
        "\n",
        "Explicit casting is done manually using functions like int(), float(), str().\n",
        "\n",
        "Q11) What is the purpose of conditional statements in Python?\n",
        "\n",
        "Ans11) Conditional statements are used to make decisions in code. They allow the program to choose what to do based on conditions.\n",
        "\n",
        "Q12) How does the elif statement work?\n",
        "\n",
        "Ans12) elif allows you to check multiple conditions. It runs only if the previous if or elif is False.\n",
        "\n",
        "Q13) What is the difference between for and while loops?\n",
        "\n",
        "Ans13)for loops are used to iterate over a sequence.\n",
        "\n",
        "while loops run as long as a condition is True.\n",
        "\n",
        "Q14) Describe a scenario where a while loop is more suitable than a for loop?\n",
        "\n",
        "Ans14) Use a while loop when you don't know how many times the loop should run.\n",
        "\"\"\""
      ],
      "metadata": {
        "colab": {
          "base_uri": "https://localhost:8080/",
          "height": 139
        },
        "id": "4GArRpopOwST",
        "outputId": "e38c7479-d1ea-47b1-f106-7bdc71f75972"
      },
      "execution_count": 25,
      "outputs": [
        {
          "output_type": "execute_result",
          "data": {
            "text/plain": [
              "\"\\nQ1) What is Python, and why is it popular?\\n\\nAns1) Python is a high-level, interpreted programming language known for its simple syntax and readability. It is popular because it's easy to learn, supports multiple programming paradigms, and has a huge community with libraries.\\n\\nQ2) What is an interpreter in Python?\\n\\nAns2) An interpreter reads and executes Python code line by line, instead of compiling the whole program at once. Python uses an interpreter to run scripts.\\n\\nQ3) What are pre-defined keywords in Python?\\n\\nAns3) Keywords are special words that are reserved by Python. They have specific meanings and cannot be used as variable names.\\n\\nQ4) Can keywords be used as variable names?\\n\\nAns4) No, keywords cannot be used as variable names.\\n\\nQ5) What is mutability in Python?\\n\\nAns5) Mutability means whether an object can be changed after it's created. If it can be changed, it's mutable.\\n\\nQ6) Why are lists mutable, but tuples are immutable?\\n\\nAns6) Lists can be changed, so they are mutable. Tuples cannot be changed once created, so they are immutable. This makes tuples faster and safer for fixed data.\\n\\nQ7) What is the difference between “==” and “is” operators in Python?\\n\\nAns7) == checks if values are equal.\\n\\nis checks if two variables refer to the same object in memory.\\n\\nQ8) What are logical operators in Python?\\n\\nAns8) Logical operators are used to combine conditional statements:\\n\\nand: True if both are true\\n\\nor: True if at least one is true\\n\\nnot: Inverts the boolean value\\n\\nQ9) What is type casting in Python?\\n\\nAns9) Type casting means converting one data type into another, like converting a string to an integer or float to int.\\n\\nQ10) What is the difference between implicit and explicit type casting?\\n\\nAns10) Implicit casting is done automatically by Python.\\n\\nExplicit casting is done manually using functions like int(), float(), str().\\n\\nQ11) What is the purpose of conditional statements in Python?\\n\\nAns11) Conditional statements are used to make decisions in code. They allow the program to choose what to do based on conditions.\\n\\nQ12) How does the elif statement work?\\n\\nAns12) elif allows you to check multiple conditions. It runs only if the previous if or elif is False.\\n\\nQ13) What is the difference between for and while loops?\\n\\nAns13)for loops are used to iterate over a sequence.\\n\\nwhile loops run as long as a condition is True.\\n\\nQ14) Describe a scenario where a while loop is more suitable than a for loop?\\n\\nAns14) Use a while loop when you don't know how many times the loop should run.\\n\""
            ],
            "application/vnd.google.colaboratory.intrinsic+json": {
              "type": "string"
            }
          },
          "metadata": {},
          "execution_count": 25
        }
      ]
    },
    {
      "cell_type": "code",
      "source": [
        "# Practical Questions\n",
        "\n",
        "# Q1) Write a Python program to print \"Hello, World!\"\n",
        "print(\"Hello, World!\")\n"
      ],
      "metadata": {
        "colab": {
          "base_uri": "https://localhost:8080/"
        },
        "id": "lPyDGHlmK19m",
        "outputId": "200ab57c-7b93-44fb-880d-213fa39b8bbc"
      },
      "execution_count": 1,
      "outputs": [
        {
          "output_type": "stream",
          "name": "stdout",
          "text": [
            "Hello, World!\n"
          ]
        }
      ]
    },
    {
      "cell_type": "code",
      "source": [
        "# Q2) Write a Python program that displays your name and age.\n",
        "name = \"Nitesh\"\n",
        "age = 22\n",
        "print(\"Name:\", name)\n",
        "print(\"Age:\", age)"
      ],
      "metadata": {
        "colab": {
          "base_uri": "https://localhost:8080/"
        },
        "id": "aE_-VwlALXjE",
        "outputId": "eb8cc20e-82ff-4d00-dec0-86e529208ac6"
      },
      "execution_count": 2,
      "outputs": [
        {
          "output_type": "stream",
          "name": "stdout",
          "text": [
            "Name: Nitesh\n",
            "Age: 22\n"
          ]
        }
      ]
    },
    {
      "cell_type": "code",
      "source": [
        "# Q3) Write code to print all the pre-defined keywords in Python using the keyword library.\n",
        "import keyword\n",
        "print(\"Python Keywords:\")\n",
        "print(keyword.kwlist)\n"
      ],
      "metadata": {
        "colab": {
          "base_uri": "https://localhost:8080/"
        },
        "id": "NxYgApilLiED",
        "outputId": "b9290827-a48a-420e-db01-9abdfea7de3d"
      },
      "execution_count": 3,
      "outputs": [
        {
          "output_type": "stream",
          "name": "stdout",
          "text": [
            "Python Keywords:\n",
            "['False', 'None', 'True', 'and', 'as', 'assert', 'async', 'await', 'break', 'class', 'continue', 'def', 'del', 'elif', 'else', 'except', 'finally', 'for', 'from', 'global', 'if', 'import', 'in', 'is', 'lambda', 'nonlocal', 'not', 'or', 'pass', 'raise', 'return', 'try', 'while', 'with', 'yield']\n"
          ]
        }
      ]
    },
    {
      "cell_type": "code",
      "source": [
        "#Q4) Write a program that checks if a given word is a Python keyword.\n",
        "import keyword\n",
        "\n",
        "word = input(\"Enter a word: \")\n",
        "if keyword.iskeyword(word):\n",
        "    print(f\"'{word}' is a Python keyword.\")\n",
        "else:\n",
        "    print(f\"'{word}' is NOT a Python keyword.\")\n"
      ],
      "metadata": {
        "colab": {
          "base_uri": "https://localhost:8080/"
        },
        "id": "2wLiq1pNLn2z",
        "outputId": "530de3f3-8e07-4511-c3aa-fd373a06fbcc"
      },
      "execution_count": 4,
      "outputs": [
        {
          "output_type": "stream",
          "name": "stdout",
          "text": [
            "Enter a word: string\n",
            "'string' is NOT a Python keyword.\n"
          ]
        }
      ]
    },
    {
      "cell_type": "code",
      "source": [
        "#Q5) Create a list and tuple in Python, and demonstrate how attempting to change an element works differently for each.\n",
        "# List (mutable)\n",
        "my_list = [1, 2, 3]\n",
        "my_list[0] = 10\n",
        "print(\"Modified List:\", my_list)\n",
        "\n",
        "# Tuple (immutable)\n",
        "my_tuple = (1, 2, 3)\n",
        "try:\n",
        "    my_tuple[0] = 10\n",
        "except TypeError as e:\n",
        "    print(\"Error modifying tuple:\", e)"
      ],
      "metadata": {
        "colab": {
          "base_uri": "https://localhost:8080/"
        },
        "id": "eFWzGPbBLySc",
        "outputId": "6ecc4d3a-2f0e-401b-ec92-78060aa62d83"
      },
      "execution_count": 5,
      "outputs": [
        {
          "output_type": "stream",
          "name": "stdout",
          "text": [
            "Modified List: [10, 2, 3]\n",
            "Error modifying tuple: 'tuple' object does not support item assignment\n"
          ]
        }
      ]
    },
    {
      "cell_type": "code",
      "source": [
        "#Q6) Write a function to demonstrate the behavior of mutable and immutable arguments.\n",
        "def modify_list(lst):\n",
        "    lst.append(4)\n",
        "    print(\"Inside function (list):\", lst)\n",
        "\n",
        "def modify_int(num):\n",
        "    num += 10\n",
        "    print(\"Inside function (int):\", num)\n",
        "\n",
        "my_list = [1, 2, 3]\n",
        "my_num = 5\n",
        "\n",
        "modify_list(my_list)\n",
        "print(\"Outside function (list):\", my_list)\n",
        "\n",
        "modify_int(my_num)\n",
        "print(\"Outside function (int):\", my_num)\n"
      ],
      "metadata": {
        "colab": {
          "base_uri": "https://localhost:8080/"
        },
        "id": "GCe6klTYL9Cj",
        "outputId": "812be4ef-3e09-4610-997c-846f20a7be4e"
      },
      "execution_count": 6,
      "outputs": [
        {
          "output_type": "stream",
          "name": "stdout",
          "text": [
            "Inside function (list): [1, 2, 3, 4]\n",
            "Outside function (list): [1, 2, 3, 4]\n",
            "Inside function (int): 15\n",
            "Outside function (int): 5\n"
          ]
        }
      ]
    },
    {
      "cell_type": "code",
      "source": [
        "#Q7) Write a function to demonstrate the behavior of mutable and immutable arguments.\n",
        "def modify_list(lst):\n",
        "    lst.append(4)\n",
        "    print(\"Inside function (list):\", lst)\n",
        "\n",
        "def modify_int(num):\n",
        "    num += 10\n",
        "    print(\"Inside function (int):\", num)\n",
        "\n",
        "my_list = [1, 2, 3]\n",
        "my_num = 5\n",
        "\n",
        "modify_list(my_list)\n",
        "print(\"Outside function (list):\", my_list)\n",
        "\n",
        "modify_int(my_num)\n",
        "print(\"Outside function (int):\", my_num)\n"
      ],
      "metadata": {
        "colab": {
          "base_uri": "https://localhost:8080/"
        },
        "id": "ijt8rVZrME2e",
        "outputId": "8ff39a28-e3cd-4b78-f1c1-791ae0c90dfc"
      },
      "execution_count": 18,
      "outputs": [
        {
          "output_type": "stream",
          "name": "stdout",
          "text": [
            "Inside function (list): [1, 2, 3, 4]\n",
            "Outside function (list): [1, 2, 3, 4]\n",
            "Inside function (int): 15\n",
            "Outside function (int): 5\n"
          ]
        }
      ]
    },
    {
      "cell_type": "code",
      "source": [
        "#Q8) Write a program to demonstrate the use of logical operators.\n",
        "a = 10\n",
        "b = 5\n",
        "print(\"a > b and b > 0:\", a > b and b > 0)\n",
        "print(\"a < b or b > 0:\", a < b or b > 0)\n",
        "print(\"not(a < b):\", not (a < b))\n",
        "\n"
      ],
      "metadata": {
        "colab": {
          "base_uri": "https://localhost:8080/"
        },
        "id": "QEC-5eaBMKhD",
        "outputId": "d2fa3aea-55e4-43f9-9777-556939b2664b"
      },
      "execution_count": 19,
      "outputs": [
        {
          "output_type": "stream",
          "name": "stdout",
          "text": [
            "a > b and b > 0: True\n",
            "a < b or b > 0: True\n",
            "not(a < b): True\n"
          ]
        }
      ]
    },
    {
      "cell_type": "code",
      "source": [
        "#Q9) Write a Python program to convert user input from string to integer, float, and boolean types.\n",
        "user_input = input(\"Enter something: \")\n",
        "\n",
        "int_val = int(user_input)\n",
        "float_val = float(user_input)\n",
        "bool_val = bool(user_input)\n",
        "\n",
        "print(\"Integer:\", int_val)\n",
        "print(\"Float:\", float_val)\n",
        "print(\"Boolean:\", bool_val)\n",
        "\n"
      ],
      "metadata": {
        "colab": {
          "base_uri": "https://localhost:8080/"
        },
        "id": "ii9PZ1nlMQn7",
        "outputId": "62f91664-2f91-46f4-c6a2-a951c15e2929"
      },
      "execution_count": 20,
      "outputs": [
        {
          "output_type": "stream",
          "name": "stdout",
          "text": [
            "Enter something: 10\n",
            "Integer: 10\n",
            "Float: 10.0\n",
            "Boolean: True\n"
          ]
        }
      ]
    },
    {
      "cell_type": "code",
      "source": [
        "#Q10) Write code to demonstrate type casting with list elements.\n",
        "str_list = [\"1\", \"2\", \"3\"]\n",
        "int_list = [int(i) for i in str_list]\n",
        "print(\"Original (str):\", str_list)\n",
        "print(\"Converted (int):\", int_list)\n"
      ],
      "metadata": {
        "colab": {
          "base_uri": "https://localhost:8080/"
        },
        "id": "VD_PSvhqMbLd",
        "outputId": "e0d21b9b-df91-42ed-8d0f-9a7cc43f4b2d"
      },
      "execution_count": 21,
      "outputs": [
        {
          "output_type": "stream",
          "name": "stdout",
          "text": [
            "Original (str): ['1', '2', '3']\n",
            "Converted (int): [1, 2, 3]\n"
          ]
        }
      ]
    },
    {
      "cell_type": "code",
      "source": [
        "#Q11) Write a program that checks if a number is positive, negative, or zero.\n",
        "num = int(input(\"Enter a number: \"))\n",
        "if num > 0:\n",
        "    print(\"Positive\")\n",
        "elif num < 0:\n",
        "    print(\"Negative\")\n",
        "else:\n",
        "    print(\"Zero\")\n",
        "\n"
      ],
      "metadata": {
        "colab": {
          "base_uri": "https://localhost:8080/"
        },
        "id": "027F4C7fMiTk",
        "outputId": "0031839d-2e51-49f9-c181-e55ce32efe98"
      },
      "execution_count": 22,
      "outputs": [
        {
          "output_type": "stream",
          "name": "stdout",
          "text": [
            "Enter a number: 10\n",
            "Positive\n"
          ]
        }
      ]
    },
    {
      "cell_type": "code",
      "source": [
        "# Q12)  Write a for loop to print numbers from 1 to 100.\n",
        "for i in range(1, 101):\n",
        "    print(i)\n",
        "\n"
      ],
      "metadata": {
        "colab": {
          "base_uri": "https://localhost:8080/"
        },
        "id": "ImZNcEtcMoR3",
        "outputId": "526166e0-8fc7-4e8d-de37-d24f91daf0a0"
      },
      "execution_count": 23,
      "outputs": [
        {
          "output_type": "stream",
          "name": "stdout",
          "text": [
            "1\n",
            "2\n",
            "3\n",
            "4\n",
            "5\n",
            "6\n",
            "7\n",
            "8\n",
            "9\n",
            "10\n",
            "11\n",
            "12\n",
            "13\n",
            "14\n",
            "15\n",
            "16\n",
            "17\n",
            "18\n",
            "19\n",
            "20\n",
            "21\n",
            "22\n",
            "23\n",
            "24\n",
            "25\n",
            "26\n",
            "27\n",
            "28\n",
            "29\n",
            "30\n",
            "31\n",
            "32\n",
            "33\n",
            "34\n",
            "35\n",
            "36\n",
            "37\n",
            "38\n",
            "39\n",
            "40\n",
            "41\n",
            "42\n",
            "43\n",
            "44\n",
            "45\n",
            "46\n",
            "47\n",
            "48\n",
            "49\n",
            "50\n",
            "51\n",
            "52\n",
            "53\n",
            "54\n",
            "55\n",
            "56\n",
            "57\n",
            "58\n",
            "59\n",
            "60\n",
            "61\n",
            "62\n",
            "63\n",
            "64\n",
            "65\n",
            "66\n",
            "67\n",
            "68\n",
            "69\n",
            "70\n",
            "71\n",
            "72\n",
            "73\n",
            "74\n",
            "75\n",
            "76\n",
            "77\n",
            "78\n",
            "79\n",
            "80\n",
            "81\n",
            "82\n",
            "83\n",
            "84\n",
            "85\n",
            "86\n",
            "87\n",
            "88\n",
            "89\n",
            "90\n",
            "91\n",
            "92\n",
            "93\n",
            "94\n",
            "95\n",
            "96\n",
            "97\n",
            "98\n",
            "99\n",
            "100\n"
          ]
        }
      ]
    },
    {
      "cell_type": "code",
      "source": [
        "#Q13)  Write a Python program to find the sum of all even numbers between 1 and 50.\n",
        "even_sum = 0\n",
        "for i in range(2, 501, 2):\n",
        "    even_sum += i\n",
        "print(\"Sum of even numbers from 1 to 500:\", even_sum)\n",
        "\n",
        "\n"
      ],
      "metadata": {
        "colab": {
          "base_uri": "https://localhost:8080/"
        },
        "id": "uR-k8UJOMu_c",
        "outputId": "977487b9-05f6-4bf9-861f-c6ba798742c3"
      },
      "execution_count": 24,
      "outputs": [
        {
          "output_type": "stream",
          "name": "stdout",
          "text": [
            "Sum of even numbers from 1 to 500: 62750\n"
          ]
        }
      ]
    },
    {
      "cell_type": "code",
      "source": [
        "#Q14) Write a program to reverse a string using a while loop.\n",
        "s = input(\"Enter a string: \")\n",
        "reversed_str = \"\"\n",
        "i = len(s) - 1\n",
        "\n",
        "while i >= 0:\n",
        "    reversed_str += s[i]\n",
        "    i -= 1\n",
        "\n",
        "print(\"Reversed string:\", reversed_str)\n",
        "\n"
      ],
      "metadata": {
        "colab": {
          "base_uri": "https://localhost:8080/"
        },
        "id": "ledLwMaJM39L",
        "outputId": "d7034301-4c6d-4433-8d3d-9220d7495167"
      },
      "execution_count": 16,
      "outputs": [
        {
          "output_type": "stream",
          "name": "stdout",
          "text": [
            "Enter a string: nitesh\n",
            "Reversed string: hsetin\n"
          ]
        }
      ]
    },
    {
      "cell_type": "code",
      "source": [
        "# Q15) Write a Python program to calculate the factorial of a number provided by the user using a while loop.\n",
        "num = int(input(\"Enter a number: \"))\n",
        "factorial = 1\n",
        "i = 1\n",
        "\n",
        "while i <= num:\n",
        "    factorial *= i\n",
        "    i += 1\n",
        "\n",
        "print(\"Factorial of\", num, \"is\", factorial)\n"
      ],
      "metadata": {
        "colab": {
          "base_uri": "https://localhost:8080/"
        },
        "id": "blgEBuK9NB23",
        "outputId": "ad8ef08d-dfb6-44e5-9a84-fa453dba0be1"
      },
      "execution_count": 15,
      "outputs": [
        {
          "output_type": "stream",
          "name": "stdout",
          "text": [
            "Enter a number: 10\n",
            "Factorial of 10 is 3628800\n"
          ]
        }
      ]
    }
  ]
}